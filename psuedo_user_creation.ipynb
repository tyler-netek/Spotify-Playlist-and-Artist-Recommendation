{
 "cells": [
  {
   "cell_type": "markdown",
   "id": "a2491a1d",
   "metadata": {},
   "source": [
    "# 1. Download the dataset from Kaggle's API"
   ]
  },
  {
   "cell_type": "code",
   "execution_count": 1,
   "id": "0ec41b14",
   "metadata": {},
   "outputs": [
    {
     "name": "stdout",
     "output_type": "stream",
     "text": [
      "📁 Dataset path: /Users/nickhellmer/.cache/kagglehub/datasets/himanshuwagh/spotify-million/versions/1\n"
     ]
    }
   ],
   "source": [
    "# download the data\n",
    "import kagglehub\n",
    "\n",
    "# Download the dataset (cached locally if already downloaded)\n",
    "path = kagglehub.dataset_download(\"himanshuwagh/spotify-million\")\n",
    "\n",
    "print(\"📁 Dataset path:\", path)"
   ]
  },
  {
   "cell_type": "markdown",
   "id": "238b91ba",
   "metadata": {},
   "source": [
    "# 2. Exploring the data"
   ]
  },
  {
   "cell_type": "code",
   "execution_count": 2,
   "id": "37772c66",
   "metadata": {},
   "outputs": [
    {
     "name": "stdout",
     "output_type": "stream",
     "text": [
      "Total files: 6\n",
      "First 5 files: ['README.md', 'data', 'license.txt', 'md5sums', 'src']\n"
     ]
    }
   ],
   "source": [
    "import os\n",
    "\n",
    "data_dir = os.path.expanduser(\"~/.cache/kagglehub/datasets/himanshuwagh/spotify-million/versions/1\")\n",
    "slice_files = sorted(os.listdir(data_dir))\n",
    "print(\"Total files:\", len(slice_files))\n",
    "print(\"First 5 files:\", slice_files[:5])"
   ]
  },
  {
   "cell_type": "code",
   "execution_count": 3,
   "id": "9110e436",
   "metadata": {},
   "outputs": [
    {
     "name": "stdout",
     "output_type": "stream",
     "text": [
      "Total JSON slice files: 1000\n",
      "First 5 slices: ['mpd.slice.0-999.json', 'mpd.slice.1000-1999.json', 'mpd.slice.10000-10999.json', 'mpd.slice.100000-100999.json', 'mpd.slice.101000-101999.json']\n"
     ]
    }
   ],
   "source": [
    "# update data directory to location of the 1,000 JSONs\n",
    "data_dir = os.path.expanduser(\"~/.cache/kagglehub/datasets/himanshuwagh/spotify-million/versions/1/data\")\n",
    "# inspect again \n",
    "slice_files = sorted(os.listdir(data_dir))\n",
    "print(\"Total JSON slice files:\", len(slice_files))\n",
    "print(\"First 5 slices:\", slice_files[:5])"
   ]
  },
  {
   "cell_type": "markdown",
   "id": "204edfcf",
   "metadata": {},
   "source": [
    "## *2.1 Inpect the first slice of the data (first 1,000 playlists)*"
   ]
  },
  {
   "cell_type": "code",
   "execution_count": 4,
   "id": "e5f261c1",
   "metadata": {},
   "outputs": [
    {
     "name": "stdout",
     "output_type": "stream",
     "text": [
      "Top-level keys: dict_keys(['info', 'playlists'])\n",
      "Number of playlists in this slice: 1000\n",
      "\n",
      "Playlist 0 (pid=0):\n",
      "  Name: Throwbacks\n",
      "  Num tracks: 52\n",
      "  Track URIs: ['spotify:track:0UaMYEvWZi0ZqiDOoHU3YI', 'spotify:track:6I9VzXrHxO9rA9A5euc8Ak', 'spotify:track:0WqIKmW4BTrj3eJFmnCKMv', 'spotify:track:1AWQoqb9bSvzTjaLralEkT', 'spotify:track:1lzr43nnXAijIGYnCT8M8H', 'spotify:track:0XUfyU2QviPAs6bxSpXYG4', 'spotify:track:68vgtRHr7iZHpzGpon6Jlo', 'spotify:track:3BxWKCI06eQ5Od8TY2JBeA', 'spotify:track:7H6ev70Weq6DdpZyyTmUXk', 'spotify:track:2PpruBYCo4H7WOBJ7Q2EwM', 'spotify:track:2gam98EZKrF9XuOkU13ApN', 'spotify:track:4Y45aqo9QMa57rDsAJv40A', 'spotify:track:1HwpWwa6bnqqRhK8agG4RS', 'spotify:track:20ORwCJusz4KS2PbTPVNKo', 'spotify:track:7k6IzwMGpxnRghE7YosnXT', 'spotify:track:1Bv0Yl01xBDZD4OQP93fyl', 'spotify:track:4omisSlTk6Dsq2iQD7MA07', 'spotify:track:7xYnUQigPoIDAMPVK79NEq', 'spotify:track:6d8A5sAx9TfdeseDvfWNHd', 'spotify:track:4pmc2AxSEq6g7hPVlJCPyP', 'spotify:track:215JYyyUnrJ98NK3KEwu6d', 'spotify:track:0uqPG793dkDDN7sCUJJIVC', 'spotify:track:19Js5ypV6JKn4DMExHQbGc', 'spotify:track:1JURww012QnWAw0zZXi6Aa', 'spotify:track:7DFnq8FYhHMCylykf6ZCxA', 'spotify:track:1TfAhjzRBWzYZ8IdUV3igl', 'spotify:track:1Y4ZdPOOgCUhBcKZOrUFiS', 'spotify:track:6MjljecHzHelUDismyKkba', 'spotify:track:67T6l4q3zVjC5nZZPXByU8', 'spotify:track:34ceTg8ChN5HjrqiIYCn9Q', 'spotify:track:5Q0Nhxo0l2bP3pNjpGJwV1', 'spotify:track:6GIrIt2M39wEGwjCQjGChX', 'spotify:track:4E5P1XyAFtrjpiIxkydly4', 'spotify:track:3H1LCvO3fVsK2HPguhbml0', 'spotify:track:3uoQULcUWfnt6nc6J7Vgai', 'spotify:track:2nbClS09zsIAqNkshg6jnp', 'spotify:track:69ghzc538EQSVon2Gm3wrr', 'spotify:track:1kusepF3AacIEtUTYrw4GV', 'spotify:track:7oK9VyNzrYvRFo7nQEYkWN', 'spotify:track:12qZHAeOyTf93YAWvGDTat', 'spotify:track:2jFlMILIQzs7lSFudG9lbo', 'spotify:track:4I2GqMe7L2ccMpUbnDzYLH', 'spotify:track:5lDriBxJd22IhOH9zTcFrV', 'spotify:track:2eJ8ij1T3cNUKiGdcUvKhy', 'spotify:track:5y69gQtK33qxb8a24ACkCy', 'spotify:track:1X5WGCrUMuwRFuYU1eAo2I', 'spotify:track:3utIAb67sOu0QHxBE88P1M', 'spotify:track:3jkdQNkDTxxXtjSO4l0o1H', 'spotify:track:5c1sfI6wIQEsSUw0xrkFdl', 'spotify:track:6sqNctd7MlJoKDOxPVCAvU', 'spotify:track:1b7vg5T9YKR3NNqXfBYRF7', 'spotify:track:6GIrIt2M39wEGwjCQjGChX']\n",
      "\n",
      "Playlist 1 (pid=1):\n",
      "  Name: Awesome Playlist\n",
      "  Num tracks: 39\n",
      "  Track URIs: ['spotify:track:2HHtWyy5CgaQbC7XSoOb0e', 'spotify:track:1MYYt7h6amcrauCOoso3Gx', 'spotify:track:3x2mJ2bjCIU70NrH49CtYR', 'spotify:track:1Pm3fq1SC6lUlNVBGZi3Em', 'spotify:track:1NXTEkIeRL59NK61QuhYUl', 'spotify:track:3RGlJJFkWEavxeRQr9ivAd', 'spotify:track:0e9hR1vTrzlUvFH5PgA9rY', 'spotify:track:7dkbEHIMLoeuG4zXGmzhEH', 'spotify:track:7nZnCjIJ8JigdMqJ36yRRm', 'spotify:track:2TK2KSrzXD6W01qjXVjNGh', 'spotify:track:3nJYcY9yvKP8Oi2Ml8brXt', 'spotify:track:4TTV7EcfroSLWzXRY6gLv6', 'spotify:track:4cxvludVmQxryrnx1m9FqL', 'spotify:track:5CQ30WqJwcep0pYcV4AMNc', 'spotify:track:1HZ3cUZUw5htSFmah1V8Ko', 'spotify:track:43pmQcgxMMhJu1gPW2ZdNz', 'spotify:track:6Vz7vzOpCwKeSQlfViibuY', 'spotify:track:4sFbojhVXQv7dBC9PVCcRn', 'spotify:track:1dv3ePjze9tPq2pk8eWJdR', 'spotify:track:5EWPGh7jbTNO2wakv8LjUI', 'spotify:track:1GqlvSEtMx5xbGptxOTTyk', 'spotify:track:39C5FuZ8C8M0QI8CrMsPkR', 'spotify:track:4aVuWgvD0X63hcOCnZtNFA', 'spotify:track:4DMKwE2E2iYDKY01C335Uw', 'spotify:track:1AhDOtG9vPSOmsWgNW0BEY', 'spotify:track:4CJVkjo5WpmUAKp3R44LNb', 'spotify:track:1QEEqeFIZktqIpPI4jSVSF', 'spotify:track:2nVHqZbOGkKWzlcy1aMbE7', 'spotify:track:6MpMuAuLzFFfwB8QzWL1iZ', 'spotify:track:7o2CTH4ctstm8TNelqjb51', 'spotify:track:4BP3uh0hFLFRb5cjsgLqDh', 'spotify:track:0XIvZ82aDF7JiSi3ZE320u', 'spotify:track:3QZ7uX97s82HFYSmQUAN1D', 'spotify:track:6UGHk2cmbDC1oidVjXcCKo', 'spotify:track:3lpDrxUkr0tIe1kmJvdK7d', 'spotify:track:0K6yUnIKNsFtfIpTgGtcHm', 'spotify:track:0hBby0yygBY1u3m6tSpZgC', 'spotify:track:6cbBAD1AAYVaQR1cx89AZX', 'spotify:track:1k0GxoZYv3Yx5mNeXMOZN2']\n"
     ]
    }
   ],
   "source": [
    "import json\n",
    "\n",
    "# load first 1000 playlists\n",
    "first_1000 = os.path.join(data_dir, \"mpd.slice.0-999.json\")\n",
    "with open(first_1000, \"r\") as f:\n",
    "    data_1000 = json.load(f)\n",
    "\n",
    "# Check top-level keys\n",
    "print(\"Top-level keys:\", data_1000.keys())\n",
    "\n",
    "# Preview first 2 playlists\n",
    "playlists_1000 = data_1000[\"playlists\"]\n",
    "print(f\"Number of playlists in this slice: {len(playlists_1000)}\")\n",
    "\n",
    "for i in range(2):\n",
    "    print(f\"\\nPlaylist {i} (pid={playlists_1000[i]['pid']}):\")\n",
    "    print(\"  Name:\", playlists_1000[i][\"name\"])\n",
    "    print(\"  Num tracks:\", playlists_1000[i][\"num_tracks\"])\n",
    "    print(\"  Track URIs:\", [track[\"track_uri\"] for track in playlists_1000[i][\"tracks\"]])"
   ]
  },
  {
   "cell_type": "markdown",
   "id": "c79162af",
   "metadata": {},
   "source": [
    "# 3. Building the synthetic users\n",
    "\n",
    "One limitation I realized in our clustering approach is that it only groups playlists based on raw artist overlap — that is, playlists are treated as similar only if they share at least some of the same artists. But in reality, I personally have playlists that don’t share any artists with each other but still reflect my personal taste. For example, I might have a classic rock playlist and a separate indie playlist with zero artist overlap, yet both belong to me. This means that real users often span multiple “disjoint” musical clusters. In our synthetic user generation, however, playlists will almost always be linked through at least one common artist, which isn’t always realistic. A future improvement could involve incorporating artist similarity into our playlist vectors. Once we develop a model to quantify how similar artists are to one another (e.g., via embeddings or co-occurrence data), we could smooth or augment each playlist’s artist vector by boosting the weights of similar artists. This would allow playlists with non-overlapping but stylistically related artists to still be clustered together, better reflecting how real users listen across genres."
   ]
  },
  {
   "cell_type": "markdown",
   "id": "a798ccad",
   "metadata": {},
   "source": [
    "## *3.1 Creating the playlist vectors via raw artist counts*"
   ]
  },
  {
   "cell_type": "code",
   "execution_count": 5,
   "id": "24e1b5e8",
   "metadata": {},
   "outputs": [],
   "source": [
    "from collections import Counter\n",
    "import json\n",
    "import os\n",
    "from scipy.sparse import csr_matrix\n",
    "import numpy as np"
   ]
  },
  {
   "cell_type": "code",
   "execution_count": 6,
   "id": "efb58f98",
   "metadata": {},
   "outputs": [],
   "source": [
    "def load_artist_vectors(slice_path):\n",
    "    with open(slice_path, \"r\") as f:\n",
    "        data = json.load(f)\n",
    "    \n",
    "    playlists = data[\"playlists\"]\n",
    "    artist_vectors = []\n",
    "    playlist_ids = []\n",
    "\n",
    "    for p in playlists:\n",
    "        artist_counts = Counter(track[\"artist_uri\"] for track in p[\"tracks\"])\n",
    "        artist_vectors.append(artist_counts)\n",
    "        playlist_ids.append(p[\"pid\"])\n",
    "\n",
    "    return playlist_ids, artist_vectors"
   ]
  },
  {
   "cell_type": "code",
   "execution_count": 7,
   "id": "028a3f4c",
   "metadata": {},
   "outputs": [],
   "source": [
    "slice_path_1000 = os.path.join(data_dir, \"mpd.slice.0-999.json\")\n",
    "playlist_ids_1000, artist_vector_1000s = load_artist_vectors(slice_path_1000)"
   ]
  },
  {
   "cell_type": "markdown",
   "id": "be1b31b3",
   "metadata": {},
   "source": [
    "## *3.2 Creating the sparse matrix of playlist vectors*"
   ]
  },
  {
   "cell_type": "code",
   "execution_count": 8,
   "id": "3cda39b7",
   "metadata": {},
   "outputs": [],
   "source": [
    "def build_sparse_matrix(artist_vectors):\n",
    "    # create list of of all unique artists\n",
    "    unique_artists = {}\n",
    "    for vec in artist_vectors:\n",
    "        for artist in vec:\n",
    "            if artist not in unique_artists:\n",
    "                unique_artists[artist] = len(unique_artists)\n",
    "\n",
    "    # create data for the sparse matrix\n",
    "    rows, cols, data = [], [], []\n",
    "    for row_idx, vec in enumerate(artist_vectors):\n",
    "        for artist, count in vec.items():\n",
    "            col_idx = unique_artists[artist]\n",
    "            rows.append(row_idx)\n",
    "            cols.append(col_idx)\n",
    "            data.append(count)\n",
    "\n",
    "    # create sparse matrix\n",
    "    matrix = csr_matrix((data, (rows, cols)), shape=(len(artist_vectors), len(unique_artists)))\n",
    "    return matrix, unique_artists"
   ]
  },
  {
   "cell_type": "code",
   "execution_count": 9,
   "id": "9b644fa0",
   "metadata": {},
   "outputs": [
    {
     "name": "stdout",
     "output_type": "stream",
     "text": [
      "Matrix shape: (1000, 9754)\n"
     ]
    }
   ],
   "source": [
    "sparse_matrix_1000, artist_vocab_1000 = build_sparse_matrix(artist_vector_1000s)\n",
    "print(\"Matrix shape:\", sparse_matrix_1000.shape)"
   ]
  },
  {
   "cell_type": "markdown",
   "id": "ffba4dc9",
   "metadata": {},
   "source": [
    "## *3.3 Creating the synthetic users*\n",
    "- Idea 1: talk about how kmeans vs kmediods was considered. Provide reasoning as to why kmeans (the selected method) works even tho we are using cosine similarity as our distance metric instead of euclidean (bc we are normalizing the vectors first)\n",
    "- Idea 2: instead of performing kmeans by finding and using the optimal k (number of clusters), can instead determine the number of clusters based on the average number of playists a standard spotify user has \n",
    "> this link https://soundplate.com/how-many-playlists-are-there-on-spotify-and-other-spotify-stats/ claims that as of 2024 there were 356 million spotify users and 8 billion user-curated playlists. This means the average user has ~23 playlists."
   ]
  },
  {
   "cell_type": "markdown",
   "id": "d9ff8ea0",
   "metadata": {},
   "source": [
    "## *3.3.1 Use kmeans to create clusters*"
   ]
  },
  {
   "cell_type": "code",
   "execution_count": 10,
   "id": "8db43bd6",
   "metadata": {},
   "outputs": [],
   "source": [
    "from sklearn.cluster import KMeans\n",
    "from sklearn.preprocessing import normalize\n",
    "import matplotlib.pyplot as plt\n",
    "from scipy.sparse import csr_matrix\n",
    "import numpy as np"
   ]
  },
  {
   "cell_type": "code",
   "execution_count": 11,
   "id": "d64537b3",
   "metadata": {},
   "outputs": [],
   "source": [
    "def cluster_playlists_kmeans(X, k_range=range(2, 30), plot_elbow=True, return_best_k=False, random_state=42, \n",
    "                            fixed_k = None, playlists_per_user = 23):\n",
    "\n",
    "    \"\"\"\n",
    "    Performs K-means clustering on L2-normalized sparse artist vectors.\n",
    "\n",
    "    Parameters:\n",
    "        X (matrix) : Sparse matrix of raw artist count vectors\n",
    "        k_range : Range of number of clusters (synthetic users) to test\n",
    "        random_state : Random seed for reproducibility\n",
    "        return_best_k : Whether to return the optimal k based on the elbow method\n",
    "        fixed_k (int or None): if set, overrides optimal k search and uses this k instead\n",
    "        playlists_per_user: user to determine if k if fixed_k is None and you want k = len(X) // playlists per user\n",
    "    Returns:\n",
    "        labels (ndarray): Cluster label for each playlist\n",
    "        kmeans (KMeans object): Trained KMeans model\n",
    "        best_k (int): Best k value selected\n",
    "    \"\"\"\n",
    "    # L2 normalize\n",
    "    X_norm = normalize(X, norm='l2', axis=1)\n",
    "    \n",
    "    # OPTION 1: if a fixed k is set\n",
    "    if fixed_k is not None:\n",
    "        k = fixed_k\n",
    "        print(f\"Using manually specified k = {k}\")\n",
    "        final_model = KMeans(n_clusters=k, random_state=random_state, n_init='auto')\n",
    "        final_model.fit(X_norm)\n",
    "        if return_best_k:\n",
    "            return final_model.labels_, final_model, k\n",
    "        else:\n",
    "            return final_model.labels_, final_model\n",
    "    \n",
    "    # OPTION 2: choose k to achieve the desired number of playlists per user\n",
    "    if k_range is None:\n",
    "        k = max(2, len(X) // playlists_per_user)\n",
    "        print(f\"Using playlists_per_user={playlists_per_user}, derived k = {k}\")\n",
    "        final_model = KMeans(n_clusters=k, random_state=random_state, n_init='auto')\n",
    "        final_model.fit(X_norm)\n",
    "        if return_best_k:\n",
    "            return final_model.labels_, final_model, k\n",
    "        else:\n",
    "            return final_model.labels_, final_model\n",
    "    \n",
    "    # OPTION 3: find best k (elbow method)\n",
    "    inertias = []\n",
    "    print(\"Running K-means for k =\", list(k_range))\n",
    "    for k in k_range:\n",
    "        model = KMeans(n_clusters=k, random_state=random_state, n_init='auto')\n",
    "        model.fit(X_norm)\n",
    "        inertias.append(model.inertia_)\n",
    "\n",
    "    if plot_elbow:\n",
    "        plt.plot(k_range, inertias, marker='o')\n",
    "        plt.xlabel('Number of Clusters (k)')\n",
    "        plt.ylabel('Inertia (sum of squared distances)')\n",
    "        plt.title('Elbow Method for Optimal k')\n",
    "        plt.grid(True)\n",
    "        plt.show()\n",
    "\n",
    "    # find k with diminishing marginal returns (minimum of secondary differences)\n",
    "    diffs = np.diff(inertias)\n",
    "    second_diffs = np.diff(diffs)\n",
    "    best_k_idx = np.argmin(second_diffs) + 2\n",
    "    best_k = k_range[best_k_idx]\n",
    "\n",
    "    print(f\"Best k selected (via elbow heuristic): {best_k}\")\n",
    "\n",
    "    # Final fit\n",
    "    final_model = KMeans(n_clusters=best_k, random_state=random_state, n_init='auto')\n",
    "    final_model.fit(X_norm)\n",
    "\n",
    "    if return_best_k:\n",
    "        return final_model.labels_, final_model, best_k\n",
    "    else:\n",
    "        return final_model.labels_, final_model"
   ]
  },
  {
   "cell_type": "markdown",
   "id": "559e6ed6",
   "metadata": {},
   "source": [
    "<span style=\"color:blue\">\n",
    "\n",
    "### 3.3.1.a Determine Number of Users Using Optimal k (elbow method)"
   ]
  },
  {
   "cell_type": "code",
   "execution_count": 12,
   "id": "70aeb221",
   "metadata": {},
   "outputs": [
    {
     "name": "stdout",
     "output_type": "stream",
     "text": [
      "Running K-means for k = [2, 3, 4, 5, 6, 7, 8, 9, 10, 11, 12, 13, 14, 15, 16, 17, 18, 19, 20, 21, 22, 23, 24, 25, 26, 27, 28, 29]\n"
     ]
    },
    {
     "data": {
      "image/png": "[encoded data removed]",
      "text/plain": [
       "<Figure size 640x480 with 1 Axes>"
      ]
     },
     "metadata": {},
     "output_type": "display_data"
    },
    {
     "name": "stdout",
     "output_type": "stream",
     "text": [
      "Best k selected (via elbow heuristic): 19\n"
     ]
    }
   ],
   "source": [
    "# elbow method\n",
    "cluster_labels_1000, kmeans_model_1000, best_k_1000 = cluster_playlists_kmeans(\n",
    "    sparse_matrix_1000, return_best_k=True)"
   ]
  },
  {
   "cell_type": "markdown",
   "id": "5dd8747a",
   "metadata": {},
   "source": [
    "<span style=\"color:blue\">\n",
    "\n",
    "### 3.3.1.b Determine Number of Users by Average # of Playlists for a typical user"
   ]
  },
  {
   "cell_type": "code",
   "execution_count": 13,
   "id": "756f245d",
   "metadata": {},
   "outputs": [
    {
     "name": "stdout",
     "output_type": "stream",
     "text": [
      "Using manually specified k = 43\n"
     ]
    }
   ],
   "source": [
    "# num of playlists per user method\n",
    "cluster_labels_1000_23, kmeans_model_1000_23, k_1000_23 = cluster_playlists_kmeans(\n",
    "    sparse_matrix_1000, fixed_k=1000 // 23, return_best_k=True)"
   ]
  },
  {
   "cell_type": "markdown",
   "id": "645db9e3",
   "metadata": {},
   "source": [
    "## *3.3.2 Extract data from clusters to create users and create new synthetic dataset*"
   ]
  },
  {
   "cell_type": "code",
   "execution_count": 14,
   "id": "0bf9b6a3",
   "metadata": {},
   "outputs": [],
   "source": [
    "from collections import defaultdict"
   ]
  },
  {
   "cell_type": "code",
   "execution_count": 15,
   "id": "9c001cc5",
   "metadata": {},
   "outputs": [],
   "source": [
    "def extract_synthetic_users(cluster_labels, playlist_dicts): \n",
    "    \"\"\"    \n",
    "    Parameters:\n",
    "        cluster_labels (ndarray): Cluster label for each playlist\n",
    "        playlist_dicts (list): Full playlist dicts\n",
    "    Returns:\n",
    "        List of synthetic user JSON objects\n",
    "    \"\"\"\n",
    "\n",
    "    user_playlists = defaultdict(list)\n",
    "\n",
    "    for i, cluster_id in enumerate(cluster_labels):\n",
    "        user_playlists[cluster_id].append(playlist_dicts[i])\n",
    "\n",
    "    synthetic_users = []\n",
    "    for user_id, playlists in user_playlists.items():\n",
    "        synthetic_users.append({\n",
    "            \"username\": f\"user_{user_id:04x}\",\n",
    "            \"playlists\": playlists\n",
    "        })\n",
    "\n",
    "    return synthetic_users"
   ]
  },
  {
   "cell_type": "markdown",
   "id": "f25e45bc",
   "metadata": {},
   "source": [
    "<span style=\"color:blue\">\n",
    "\n",
    "### 3.3.2.a Elbow method"
   ]
  },
  {
   "cell_type": "code",
   "execution_count": 16,
   "id": "93896432",
   "metadata": {},
   "outputs": [],
   "source": [
    "# elbow method\n",
    "playlist_dicts_1000 = data_1000[\"playlists\"]  # from JSON slice file\n",
    "synthetic_json_1000 = extract_synthetic_users(cluster_labels_1000, playlist_dicts_1000)"
   ]
  },
  {
   "cell_type": "markdown",
   "id": "ef965834",
   "metadata": {},
   "source": [
    "<span style=\"color:blue\">\n",
    "\n",
    "### 3.3.2.b Average # of Playlists"
   ]
  },
  {
   "cell_type": "code",
   "execution_count": 17,
   "id": "c6eddbdf",
   "metadata": {},
   "outputs": [],
   "source": [
    "# num of playlists per user method\n",
    "playlist_dicts_1000 = data_1000[\"playlists\"]  # from JSON slice file\n",
    "synthetic_json_1000_23 = extract_synthetic_users(cluster_labels_1000_23, playlist_dicts_1000)"
   ]
  },
  {
   "cell_type": "markdown",
   "id": "fffaf125",
   "metadata": {},
   "source": [
    "### (Optional) Save New Data to json file \n",
    "**Uncomment the code below to save both jsons**\n",
    "- Elbow Method - data is held in **synthetic_json_1000** and will save a file with the same name\n",
    "- Average # of Playlists - data is held in **synthetic_json_1000_23** and will save a file with the same name"
   ]
  },
  {
   "cell_type": "code",
   "execution_count": 18,
   "id": "1d0cef7a",
   "metadata": {},
   "outputs": [],
   "source": [
    "### Elbow method - Save to file ###\n",
    "import json\n",
    "with open(\"synthetic_json_1000.json\", \"w\") as f:\n",
    "    json.dump(synthetic_json_1000, f, indent=2)\n",
    "\n",
    "### Average # of Playlists - Save to file ###\n",
    "import json\n",
    "with open(\"synthetic_json_1000_23.json\", \"w\") as f:\n",
    "    json.dump(synthetic_json_1000_23, f, indent=2)"
   ]
  },
  {
   "cell_type": "markdown",
   "id": "c9035641",
   "metadata": {},
   "source": [
    "## *3.3.3 Inspecting the new synthetic json dataset*"
   ]
  },
  {
   "cell_type": "code",
   "execution_count": 19,
   "id": "402b1a1a",
   "metadata": {},
   "outputs": [],
   "source": [
    "import json\n",
    "from collections import defaultdict\n",
    "import numpy as np"
   ]
  },
  {
   "cell_type": "code",
   "execution_count": 20,
   "id": "3be40465",
   "metadata": {},
   "outputs": [],
   "source": [
    "# Summary statistics function\n",
    "def summarize(name, data):\n",
    "    print(f\"\\n{name}:\")\n",
    "    print(f\"  Avg: {np.mean(data):.2f}\")\n",
    "    print(f\"  Min: {np.min(data)}\")\n",
    "    print(f\"  Max: {np.max(data)}\")\n",
    "\n"
   ]
  },
  {
   "cell_type": "markdown",
   "id": "68ad6f5e",
   "metadata": {},
   "source": [
    "<span style=\"color:blue\">\n",
    "\n",
    "### 3.3.3.a Elbow method"
   ]
  },
  {
   "cell_type": "code",
   "execution_count": 21,
   "id": "ce1e6097",
   "metadata": {},
   "outputs": [
    {
     "name": "stdout",
     "output_type": "stream",
     "text": [
      "Total synthetic users: 19\n",
      "\n",
      "Playlists per user:\n",
      "  Avg: 52.63\n",
      "  Min: 12\n",
      "  Max: 352\n",
      "\n",
      "Unique tracks per user:\n",
      "  Avg: 2583.11\n",
      "  Min: 439\n",
      "  Max: 15827\n",
      "\n",
      "Unique artists per user:\n",
      "  Avg: 1014.32\n",
      "  Min: 194\n",
      "  Max: 5727\n"
     ]
    }
   ],
   "source": [
    "### elbow method ###\n",
    "# Initialize lists to store per-user stats\n",
    "playlist_counts = []\n",
    "unique_track_counts = []\n",
    "unique_artist_counts = []\n",
    "\n",
    "for user in synthetic_json_1000:\n",
    "    playlist_counts.append(len(user[\"playlists\"]))\n",
    "\n",
    "    user_tracks = set()\n",
    "    user_artists = set()\n",
    "\n",
    "    for pl in user[\"playlists\"]:\n",
    "        for track in pl.get(\"tracks\", []):\n",
    "            user_tracks.add(track[\"track_uri\"])\n",
    "            user_artists.add(track[\"artist_uri\"])\n",
    "\n",
    "    unique_track_counts.append(len(user_tracks))\n",
    "    unique_artist_counts.append(len(user_artists))\n",
    "    \n",
    "# Summary statistics\n",
    "print(f\"Total synthetic users: {len(synthetic_json_1000)}\")\n",
    "summarize(\"Playlists per user\", playlist_counts)\n",
    "summarize(\"Unique tracks per user\", unique_track_counts)\n",
    "summarize(\"Unique artists per user\", unique_artist_counts)"
   ]
  },
  {
   "cell_type": "markdown",
   "id": "e553c31e",
   "metadata": {},
   "source": [
    "<span style=\"color:blue\">\n",
    "\n",
    "### 3.3.3.b Average # of Playlists"
   ]
  },
  {
   "cell_type": "code",
   "execution_count": 22,
   "id": "3f6ac659",
   "metadata": {},
   "outputs": [
    {
     "name": "stdout",
     "output_type": "stream",
     "text": [
      "Total synthetic users: 43\n",
      "\n",
      "Playlists per user:\n",
      "  Avg: 23.26\n",
      "  Min: 8\n",
      "  Max: 198\n",
      "\n",
      "Unique tracks per user:\n",
      "  Avg: 1240.58\n",
      "  Min: 335\n",
      "  Max: 8970\n",
      "\n",
      "Unique artists per user:\n",
      "  Avg: 549.81\n",
      "  Min: 127\n",
      "  Max: 3700\n"
     ]
    }
   ],
   "source": [
    "### num of playlists per user method ###\n",
    "# Initialize lists to store per-user stats\n",
    "playlist_counts_23 = []\n",
    "unique_track_counts_23 = []\n",
    "unique_artist_counts_23 = []\n",
    "\n",
    "for user in synthetic_json_1000_23:\n",
    "    playlist_counts_23.append(len(user[\"playlists\"]))\n",
    "\n",
    "    user_tracks_23 = set()\n",
    "    user_artists_23 = set()\n",
    "\n",
    "    for pl in user[\"playlists\"]:\n",
    "        for track in pl.get(\"tracks\", []):\n",
    "            user_tracks_23.add(track[\"track_uri\"])\n",
    "            user_artists_23.add(track[\"artist_uri\"])\n",
    "\n",
    "    unique_track_counts_23.append(len(user_tracks_23))\n",
    "    unique_artist_counts_23.append(len(user_artists_23))\n",
    "    \n",
    "# Summary statistics\n",
    "print(f\"Total synthetic users: {len(synthetic_json_1000_23)}\")\n",
    "summarize(\"Playlists per user\", playlist_counts_23)\n",
    "summarize(\"Unique tracks per user\", unique_track_counts_23)\n",
    "summarize(\"Unique artists per user\", unique_artist_counts_23)"
   ]
  }
 ],
 "metadata": {
  "kernelspec": {
   "display_name": "Python 3 (ipykernel)",
   "language": "python",
   "name": "python3"
  },
  "language_info": {
   "codemirror_mode": {
    "name": "ipython",
    "version": 3
   },
   "file_extension": ".py",
   "mimetype": "text/x-python",
   "name": "python",
   "nbconvert_exporter": "python",
   "pygments_lexer": "ipython3",
   "version": "3.11.7"
  }
 },
 "nbformat": 4,
 "nbformat_minor": 5
}
